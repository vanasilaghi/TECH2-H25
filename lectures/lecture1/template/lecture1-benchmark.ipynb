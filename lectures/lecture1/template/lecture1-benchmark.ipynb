{
 "cells": [
  {
   "cell_type": "markdown",
   "id": "72ff393e",
   "metadata": {},
   "source": [
    "# Benchmarking against NumPy's `argmax()`\n",
    "\n",
    "We want to compare our implementation of `argmax()` against NumPy's own\n",
    "implementation, [`np.argmax()`](https://numpy.org/doc/stable/reference/generated/numpy.argmax.html).\n",
    "\n",
    "1.  Import the `lecture1` module and NumPy.\n",
    "2.  Use the function `get_test_values()` defined below to get a sample of\n",
    "    10 randomly drawn numbers.\n",
    "3.  Use the [`%timeit`](https://ipython.readthedocs.io/en/stable/interactive/magics.html#magic-timeit)\n",
    "    cell magic to measure the execution time of \n",
    "    your `argmax()` implementation against NumPy's. This can be achieved\n",
    "    as follows:\n",
    "\n",
    "    ```python\n",
    "    %timeit np.argmax(values)\n",
    "    ```\n",
    "    \n",
    "    Which one is faster?\n",
    "4.  Repeat the exercise for a sample of 1,000 random numbers.\n"
   ]
  },
  {
   "cell_type": "code",
   "execution_count": 1,
   "id": "0de0cddd",
   "metadata": {},
   "outputs": [],
   "source": [
    "def get_test_values(n=10):\n",
    "    \"\"\"\n",
    "    Return an array of n randomly generated values.\n",
    "\n",
    "    Parameters\n",
    "    ----------\n",
    "    n : int\n",
    "        The number of random values to generate (default: 10).\n",
    "\n",
    "    Returns\n",
    "    -------\n",
    "    np.ndarray\n",
    "        An array of n random values uniformly distributed in the range [0, 1].\n",
    "    \"\"\"\n",
    "    import numpy as np\n",
    "    \n",
    "    # Create an instance of a random number generator\n",
    "    rng = np.random.default_rng(seed=1234)\n",
    "\n",
    "    # Generate n random values uniformly distributed in the range [0, 1]\n",
    "    values = rng.random(n)\n",
    "\n",
    "    return values"
   ]
  },
  {
   "cell_type": "code",
   "execution_count": 2,
   "id": "e85870c0",
   "metadata": {},
   "outputs": [
    {
     "data": {
      "text/plain": [
       "array([0.97669977, 0.38019574, 0.92324623, 0.26169242, 0.31909706,\n",
       "       0.11809123, 0.24176629, 0.31853393, 0.96407925, 0.2636498 ])"
      ]
     },
     "execution_count": 2,
     "metadata": {},
     "output_type": "execute_result"
    }
   ],
   "source": [
    "get_test_values(10)"
   ]
  },
  {
   "cell_type": "markdown",
   "id": "65af8e14",
   "metadata": {},
   "source": [
    "The following lines enable automatic reloading of modules outside of this notebook if these change. Lines starting with `%` are so-called [\"cell magics\"](https://ipython.readthedocs.io/en/9.2.0/interactive/magics.html) which only work in Jupyter notebooks, but are not valid Python syntax."
   ]
  },
  {
   "cell_type": "code",
   "execution_count": null,
   "id": "7296ef57",
   "metadata": {},
   "outputs": [],
   "source": [
    "%load_ext autoreload\n",
    "%autoreload 2"
   ]
  }
 ],
 "metadata": {
  "kernelspec": {
   "display_name": "TECH2",
   "language": "python",
   "name": "python3"
  },
  "language_info": {
   "codemirror_mode": {
    "name": "ipython",
    "version": 3
   },
   "file_extension": ".py",
   "mimetype": "text/x-python",
   "name": "python",
   "nbconvert_exporter": "python",
   "pygments_lexer": "ipython3",
   "version": "3.13.5"
  }
 },
 "nbformat": 4,
 "nbformat_minor": 5
}
