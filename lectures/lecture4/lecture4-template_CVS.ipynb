{
 "cells": [
  {
   "cell_type": "markdown",
   "metadata": {},
   "source": [
    "***\n",
    "# Grouping and aggregation with pandas"
   ]
  },
  {
   "attachments": {},
   "cell_type": "markdown",
   "metadata": {
    "collapsed": false,
    "pycharm": {
     "name": "#%% md\n"
    }
   },
   "source": [
    "## Aggregation and reduction\n",
    "\n",
    "*Split-apply-combine* operations:\n",
    "\n",
    "1. *Split* data into groups based on some criteria;\n",
    "2. *Apply* some function to each group separately; and\n",
    "3. *Combine* the results into a single `DataFrame` or `Series`.\n",
    "\n",
    "See [cheat sheet](https://pandas.pydata.org/Pandas_Cheat_Sheet.pdf) for an illustration of such operations."
   ]
  },
  {
   "cell_type": "markdown",
   "metadata": {},
   "source": [
    "***\n",
    "### Aggregations of whole Series or DataFrames\n",
    "\n",
    "Pandas supports the usual set of aggregation functions, e.g.:\n",
    "\n",
    "-   [`mean()`](https://pandas.pydata.org/docs/reference/api/pandas.DataFrame.mean.html)\n",
    "-   [`sum()`](https://pandas.pydata.org/docs/reference/api/pandas.DataFrame.sum.html)\n",
    "-   [`std()`](https://pandas.pydata.org/docs/reference/api/pandas.DataFrame.std.html), \n",
    "    [`var()`](https://pandas.pydata.org/docs/reference/api/pandas.DataFrame.var.html)\n",
    "-   [`quantile()`](https://pandas.pydata.org/docs/reference/api/pandas.DataFrame.quantile.html)\n",
    "-   [`count()`](https://pandas.pydata.org/docs/reference/api/pandas.DataFrame.count.html)\n",
    "-   [`min()`](https://pandas.pydata.org/docs/reference/api/pandas.DataFrame.min.html), \n",
    "    [`max()`](https://pandas.pydata.org/docs/reference/api/pandas.DataFrame.max.html)"
   ]
  },
  {
   "cell_type": "markdown",
   "metadata": {},
   "source": [
    "*Example: compute mean of all numerical columns*"
   ]
  },
  {
   "cell_type": "code",
   "execution_count": 9,
   "metadata": {
    "collapsed": false,
    "pycharm": {
     "name": "#%%\n"
    }
   },
   "outputs": [],
   "source": [
    "import pandas as pd\n",
    "\n",
    "# Relative path to data directory\n",
    "DATA_PATH = '../../data'\n",
    "\n",
    "# Path to Titanic passenger data CSV file\n",
    "file = f'{DATA_PATH}/titanic.csv'\n",
    "\n",
    "# Read in Titanic passenger data, set PassenderId column as index\n",
    "df = pd.read_csv(file, index_col='PassengerId')"
   ]
  },
  {
   "cell_type": "code",
   "execution_count": 6,
   "metadata": {},
   "outputs": [
    {
     "data": {
      "text/plain": [
       "Survived    0.00\n",
       "Pclass      1.00\n",
       "Age         0.42\n",
       "Fare        0.00\n",
       "dtype: float64"
      ]
     },
     "execution_count": 6,
     "metadata": {},
     "output_type": "execute_result"
    }
   ],
   "source": [
    "df.min(numeric_only=True)"
   ]
  },
  {
   "cell_type": "markdown",
   "metadata": {},
   "source": [
    "<div class=\"alert alert-info\">\n",
    "<h3> Your turn</h3>\n",
    "Use the Titanic data set to perform the following aggregations:\n",
    "<ol>\n",
    "    <li>Compute the median age (column <TT>Age</TT>).</li>\n",
    "    <li>Compute the fraction of female passengers (use the information in column <TT>Sex</TT>).</li>\n",
    "</ol>\n",
    "</div>"
   ]
  },
  {
   "cell_type": "code",
   "execution_count": 21,
   "metadata": {},
   "outputs": [
    {
     "name": "stdout",
     "output_type": "stream",
     "text": [
      "28.0\n",
      "0.35241301907968575\n"
     ]
    }
   ],
   "source": [
    "ma=df['Age'].quantile()\n",
    "ff=(df['Sex']=='female').mean()\n",
    "print(ma)\n",
    "print(ff)"
   ]
  },
  {
   "attachments": {},
   "cell_type": "markdown",
   "metadata": {
    "collapsed": false,
    "pycharm": {
     "name": "#%% md\n"
    }
   },
   "source": [
    "***\n",
    "### Aggregations of subsets of data (grouping)\n",
    "\n",
    "-   We group data using the [`groupby()`](https://pandas.pydata.org/docs/reference/api/pandas.DataFrame.groupby.html) method\n",
    "    -   Groups are defined based on values of columns or the index, usually a categorical variable or an identifier for a household/individual/firm/period/...\n",
    "    -   Can group by *multiple* columns or index levels at once\n",
    "-   We can apply aggregations *by group*"
   ]
  },
  {
   "cell_type": "markdown",
   "metadata": {},
   "source": [
    "*Example: apply groupby-operations to Titanic data*\n",
    "\n",
    "-   Tabulate number of obserations by class (column `Pclass`) using \n",
    "    [`value_counts()`](https://pandas.pydata.org/docs/reference/api/pandas.DataFrame.value_counts.html)\n",
    "-   Group by passenger class, compute average of numerical columns"
   ]
  },
  {
   "cell_type": "code",
   "execution_count": null,
   "metadata": {},
   "outputs": [
    {
     "data": {
      "text/plain": [
       "Pclass\n",
       "1    216\n",
       "2    184\n",
       "3    491\n",
       "Name: count, dtype: int64"
      ]
     },
     "execution_count": 24,
     "metadata": {},
     "output_type": "execute_result"
    }
   ],
   "source": [
    "df['Pclass'].value_counts().sort_index()"
   ]
  },
  {
   "cell_type": "code",
   "execution_count": 28,
   "metadata": {},
   "outputs": [],
   "source": [
    "import numpy as np\n",
    "classes=np.sort(df['Pclass'].unique())"
   ]
  },
  {
   "cell_type": "code",
   "execution_count": null,
   "metadata": {},
   "outputs": [
    {
     "name": "stdout",
     "output_type": "stream",
     "text": [
      "38.233440860215055\n",
      "29.87763005780347\n",
      "25.14061971830986\n"
     ]
    }
   ],
   "source": [
    "classes\n",
    "for i in classes:\n",
    "    m=df[df['Pclass']==i]['Age'].mean()\n",
    "    print(m)"
   ]
  },
  {
   "cell_type": "code",
   "execution_count": 32,
   "metadata": {},
   "outputs": [],
   "source": [
    "#Recommended\n",
    "groups=df.groupby('Pclass')"
   ]
  },
  {
   "cell_type": "code",
   "execution_count": null,
   "metadata": {},
   "outputs": [
    {
     "data": {
      "text/plain": [
       "Pclass\n",
       "1    38.233441\n",
       "2    29.877630\n",
       "3    25.140620\n",
       "Name: Age, dtype: float64"
      ]
     },
     "execution_count": 33,
     "metadata": {},
     "output_type": "execute_result"
    }
   ],
   "source": [
    "groups['Age'].mean()"
   ]
  },
  {
   "cell_type": "code",
   "execution_count": 46,
   "metadata": {},
   "outputs": [
    {
     "data": {
      "text/plain": [
       "Pclass\n",
       "1    38.233441\n",
       "2    29.877630\n",
       "3    25.140620\n",
       "Name: Age, dtype: float64"
      ]
     },
     "execution_count": 46,
     "metadata": {},
     "output_type": "execute_result"
    }
   ],
   "source": [
    "df.groupby('Pclass')['Age'].mean(numeric_only=True)"
   ]
  },
  {
   "attachments": {},
   "cell_type": "markdown",
   "metadata": {
    "collapsed": false,
    "pycharm": {
     "name": "#%% md\n"
    }
   },
   "source": [
    "#### Built-in aggregations used with `groupby()`\n",
    "\n",
    "- [`mean()`](https://pandas.pydata.org/docs/reference/api/pandas.core.groupby.DataFrameGroupBy.mean.html):\n",
    "    averages within each group\n",
    "- [`sum()`](https://pandas.pydata.org/docs/reference/api/pandas.core.groupby.DataFrameGroupBy.sum.html):\n",
    "    sum values within each group\n",
    "- [`std()`](https://pandas.pydata.org/docs/reference/api/pandas.core.groupby.DataFrameGroupBy.std.html), \n",
    "    [`var()`](https://pandas.pydata.org/docs/reference/api/pandas.core.groupby.DataFrameGroupBy.var.html): \n",
    "    within-group standard deviation and variance\n",
    "-   [`median()`](https://pandas.pydata.org/docs/reference/api/pandas.core.groupby.DataFrameGroupBy.median.html):\n",
    "    compute median within each group\n",
    "- [`quantile()`](https://pandas.pydata.org/docs/reference/api/pandas.core.groupby.DataFrameGroupBy.quantile.html):\n",
    "    compute quantiles within each group\n",
    "- [`size()`](https://pandas.pydata.org/docs/reference/api/pandas.core.groupby.DataFrameGroupBy.size.html): \n",
    "    number of observations in each group\n",
    "- [`count()`](https://pandas.pydata.org/docs/reference/api/pandas.core.groupby.DataFrameGroupBy.count.html):\n",
    "    number of non-missing observations in each group\n",
    "- [`first()`](https://pandas.pydata.org/docs/reference/api/pandas.core.groupby.DataFrameGroupBy.first.html), \n",
    "    [`last()`](https://pandas.pydata.org/docs/reference/api/pandas.core.groupby.DataFrameGroupBy.last.html): \n",
    "    first and last elements in each group\n",
    "-   [`min()`](https://pandas.pydata.org/docs/reference/api/pandas.core.groupby.DataFrameGroupBy.min.html), \n",
    "    [`max()`](https://pandas.pydata.org/docs/reference/api/pandas.core.groupby.DataFrameGroupBy.max.html): \n",
    "    minimum and maximum elements within a group\n",
    "\n",
    "See the [official documentation](https://pandas.pydata.org/docs/user_guide/groupby.html#built-in-aggregation-methods) for a complete list."
   ]
  },
  {
   "attachments": {},
   "cell_type": "markdown",
   "metadata": {
    "collapsed": false,
    "pycharm": {
     "name": "#%% md\n"
    }
   },
   "source": [
    "*Example: Number of elements within each group*\n",
    "\n",
    "-   Note: `size()` and `count()` are two different functions!"
   ]
  },
  {
   "cell_type": "code",
   "execution_count": 39,
   "metadata": {},
   "outputs": [
    {
     "data": {
      "text/plain": [
       "Pclass\n",
       "1    216\n",
       "2    184\n",
       "3    491\n",
       "dtype: int64"
      ]
     },
     "execution_count": 39,
     "metadata": {},
     "output_type": "execute_result"
    }
   ],
   "source": [
    "groups.size()"
   ]
  },
  {
   "cell_type": "code",
   "execution_count": 40,
   "metadata": {},
   "outputs": [
    {
     "data": {
      "text/html": [
       "<div>\n",
       "<style scoped>\n",
       "    .dataframe tbody tr th:only-of-type {\n",
       "        vertical-align: middle;\n",
       "    }\n",
       "\n",
       "    .dataframe tbody tr th {\n",
       "        vertical-align: top;\n",
       "    }\n",
       "\n",
       "    .dataframe thead th {\n",
       "        text-align: right;\n",
       "    }\n",
       "</style>\n",
       "<table border=\"1\" class=\"dataframe\">\n",
       "  <thead>\n",
       "    <tr style=\"text-align: right;\">\n",
       "      <th></th>\n",
       "      <th>Survived</th>\n",
       "      <th>Name</th>\n",
       "      <th>Sex</th>\n",
       "      <th>Age</th>\n",
       "      <th>Ticket</th>\n",
       "      <th>Fare</th>\n",
       "      <th>Cabin</th>\n",
       "      <th>Embarked</th>\n",
       "    </tr>\n",
       "    <tr>\n",
       "      <th>Pclass</th>\n",
       "      <th></th>\n",
       "      <th></th>\n",
       "      <th></th>\n",
       "      <th></th>\n",
       "      <th></th>\n",
       "      <th></th>\n",
       "      <th></th>\n",
       "      <th></th>\n",
       "    </tr>\n",
       "  </thead>\n",
       "  <tbody>\n",
       "    <tr>\n",
       "      <th>1</th>\n",
       "      <td>216</td>\n",
       "      <td>216</td>\n",
       "      <td>216</td>\n",
       "      <td>186</td>\n",
       "      <td>216</td>\n",
       "      <td>216</td>\n",
       "      <td>176</td>\n",
       "      <td>214</td>\n",
       "    </tr>\n",
       "    <tr>\n",
       "      <th>2</th>\n",
       "      <td>184</td>\n",
       "      <td>184</td>\n",
       "      <td>184</td>\n",
       "      <td>173</td>\n",
       "      <td>184</td>\n",
       "      <td>184</td>\n",
       "      <td>16</td>\n",
       "      <td>184</td>\n",
       "    </tr>\n",
       "    <tr>\n",
       "      <th>3</th>\n",
       "      <td>491</td>\n",
       "      <td>491</td>\n",
       "      <td>491</td>\n",
       "      <td>355</td>\n",
       "      <td>491</td>\n",
       "      <td>491</td>\n",
       "      <td>12</td>\n",
       "      <td>491</td>\n",
       "    </tr>\n",
       "  </tbody>\n",
       "</table>\n",
       "</div>"
      ],
      "text/plain": [
       "        Survived  Name  Sex  Age  Ticket  Fare  Cabin  Embarked\n",
       "Pclass                                                         \n",
       "1            216   216  216  186     216   216    176       214\n",
       "2            184   184  184  173     184   184     16       184\n",
       "3            491   491  491  355     491   491     12       491"
      ]
     },
     "execution_count": 40,
     "metadata": {},
     "output_type": "execute_result"
    }
   ],
   "source": [
    "groups.count()"
   ]
  },
  {
   "attachments": {},
   "cell_type": "markdown",
   "metadata": {},
   "source": [
    "*Example: Return first observation of each group*"
   ]
  },
  {
   "cell_type": "code",
   "execution_count": 57,
   "metadata": {},
   "outputs": [
    {
     "data": {
      "text/plain": [
       "Pclass\n",
       "1    26.0\n",
       "2    27.0\n",
       "3    32.0\n",
       "Name: Age, dtype: float64"
      ]
     },
     "execution_count": 57,
     "metadata": {},
     "output_type": "execute_result"
    }
   ],
   "source": [
    "groups['Age'].last()"
   ]
  },
  {
   "cell_type": "markdown",
   "metadata": {},
   "source": [
    "<div class=\"alert alert-info\">\n",
    "<h3> Your turn</h3>\n",
    "Use the Titanic data set to perform the following aggregations:\n",
    "<ol>\n",
    "    <li>Compute the average survival rate by sex (stored in the <TT>Sex</TT> column). You need to use the survival indicator stored in the column <tt>Survived</tt> for this.</li>\n",
    "    <li>Count the number of passengers aged 50+. Compute the average survival rate by sex for this group.</li>\n",
    "    <li>Count the number of passengers below the age of 20 by class and sex. Compute the average survival rate for this group by class and sex.</li>\n",
    "</ol>\n",
    "</div>"
   ]
  },
  {
   "cell_type": "code",
   "execution_count": 47,
   "metadata": {},
   "outputs": [
    {
     "data": {
      "text/plain": [
       "Sex\n",
       "female    0.742038\n",
       "male      0.188908\n",
       "Name: Survived, dtype: float64"
      ]
     },
     "execution_count": 47,
     "metadata": {},
     "output_type": "execute_result"
    }
   ],
   "source": [
    "df.groupby('Sex')['Survived'].mean()"
   ]
  },
  {
   "cell_type": "code",
   "execution_count": 60,
   "metadata": {},
   "outputs": [
    {
     "data": {
      "text/plain": [
       "Sex\n",
       "female    0.941176\n",
       "male      0.127660\n",
       "Name: Survived, dtype: float64"
      ]
     },
     "execution_count": 60,
     "metadata": {},
     "output_type": "execute_result"
    }
   ],
   "source": [
    "df[df['Age']>50].groupby('Sex')['Survived'].mean() "
   ]
  },
  {
   "cell_type": "code",
   "execution_count": 62,
   "metadata": {},
   "outputs": [
    {
     "data": {
      "text/plain": [
       "Pclass  Sex   \n",
       "1       female    0.928571\n",
       "        male      0.571429\n",
       "2       female    1.000000\n",
       "        male      0.526316\n",
       "3       female    0.533333\n",
       "        male      0.190476\n",
       "Name: Survived, dtype: float64"
      ]
     },
     "execution_count": 62,
     "metadata": {},
     "output_type": "execute_result"
    }
   ],
   "source": [
    "import matplotlib.pyplot as plt\n",
    "df[df['Age']<20].groupby(['Pclass','Sex'])['Survived'].mean()"
   ]
  },
  {
   "attachments": {},
   "cell_type": "markdown",
   "metadata": {
    "collapsed": false,
    "pycharm": {
     "name": "#%% md\n"
    }
   },
   "source": [
    "***\n",
    "#### Writing custom aggregations\n",
    "\n",
    "-   Sometimes we want to use aggregations *not* implemented in pandas\n",
    "-   Use [`agg()`](https://pandas.pydata.org/docs/reference/api/pandas.DataFrame.agg.html)\n",
    "    to perform custom aggregations\n",
    "-   Important: `agg()` operates on a single column at a time (cannot combine data from multiple columns)\n",
    "\n",
    "    -   Use [`apply()`](https://pandas.pydata.org/docs/reference/api/pandas.core.groupby.DataFrameGroupBy.apply.html) to perform aggregations based on multiple columns"
   ]
  },
  {
   "cell_type": "markdown",
   "metadata": {},
   "source": [
    "*Example: compute mean via `agg()`*\n",
    "\n",
    "-   Compute mean age by class (`Pclass`)"
   ]
  },
  {
   "cell_type": "code",
   "execution_count": 65,
   "metadata": {},
   "outputs": [
    {
     "data": {
      "text/plain": [
       "Pclass\n",
       "1    38.233441\n",
       "2    29.877630\n",
       "3    25.140620\n",
       "Name: Age, dtype: float64"
      ]
     },
     "execution_count": 65,
     "metadata": {},
     "output_type": "execute_result"
    }
   ],
   "source": [
    "df.groupby('Pclass')['Age'].agg(\"mean\")"
   ]
  },
  {
   "cell_type": "code",
   "execution_count": 66,
   "metadata": {},
   "outputs": [
    {
     "data": {
      "text/plain": [
       "Pclass\n",
       "1    38.233441\n",
       "2    29.877630\n",
       "3    25.140620\n",
       "Name: Age, dtype: float64"
      ]
     },
     "execution_count": 66,
     "metadata": {},
     "output_type": "execute_result"
    }
   ],
   "source": [
    "df.groupby('Pclass')['Age'].mean()"
   ]
  },
  {
   "cell_type": "markdown",
   "metadata": {},
   "source": [
    "*Example: custom aggregation*\n",
    "\n",
    "-   Compute fraction of passengers aged 40+ by class"
   ]
  },
  {
   "cell_type": "code",
   "execution_count": 67,
   "metadata": {},
   "outputs": [],
   "source": [
    "def fcn(x):\n",
    "    frac=np.mean(x>40)\n",
    "    return frac"
   ]
  },
  {
   "cell_type": "code",
   "execution_count": 68,
   "metadata": {},
   "outputs": [
    {
     "data": {
      "text/plain": [
       "np.float64(0.16835016835016836)"
      ]
     },
     "execution_count": 68,
     "metadata": {},
     "output_type": "execute_result"
    }
   ],
   "source": [
    "fcn(df['Age'])"
   ]
  },
  {
   "cell_type": "code",
   "execution_count": 71,
   "metadata": {},
   "outputs": [
    {
     "data": {
      "text/plain": [
       "Pclass\n",
       "1    0.351852\n",
       "2    0.184783\n",
       "3    0.081466\n",
       "Name: Age, dtype: float64"
      ]
     },
     "execution_count": 71,
     "metadata": {},
     "output_type": "execute_result"
    }
   ],
   "source": [
    "df.groupby('Pclass')['Age'].agg(fcn)"
   ]
  },
  {
   "cell_type": "code",
   "execution_count": 72,
   "metadata": {},
   "outputs": [
    {
     "data": {
      "text/plain": [
       "Pclass\n",
       "1    0.351852\n",
       "2    0.184783\n",
       "3    0.081466\n",
       "Name: Age, dtype: float64"
      ]
     },
     "execution_count": 72,
     "metadata": {},
     "output_type": "execute_result"
    }
   ],
   "source": [
    "df.groupby('Pclass')['Age'].agg(lambda x: np.mean(x>40))"
   ]
  },
  {
   "attachments": {},
   "cell_type": "markdown",
   "metadata": {},
   "source": [
    "***\n",
    "#### Applying multiple functions at once\n",
    "\n",
    "-  Applying multiple functions to a **single** column\n",
    "\n",
    "    -   Functions are passed in as a *list*\n",
    "\n",
    "-  Applying multiple functions to **multiple** columns\n",
    "\n",
    "    -   Use so-called *named aggregation*\n",
    "    -   Columns and functions are passed in as a *dictionary*:\n",
    "\n",
    "    ```python\n",
    "    groups.agg(\n",
    "        new_column_name1=('column_name1', 'operation1'),\n",
    "        new_column_name2=('column_name2', 'operation2'),\n",
    "        ...\n",
    "    )\n",
    "    ```"
   ]
  },
  {
   "cell_type": "markdown",
   "metadata": {},
   "source": [
    "\n",
    "*Example: Applying multiple functions to a **single** column*\n",
    "\n",
    "-   Compute mean *and* median age by class"
   ]
  },
  {
   "cell_type": "code",
   "execution_count": 73,
   "metadata": {},
   "outputs": [
    {
     "data": {
      "text/html": [
       "<div>\n",
       "<style scoped>\n",
       "    .dataframe tbody tr th:only-of-type {\n",
       "        vertical-align: middle;\n",
       "    }\n",
       "\n",
       "    .dataframe tbody tr th {\n",
       "        vertical-align: top;\n",
       "    }\n",
       "\n",
       "    .dataframe thead th {\n",
       "        text-align: right;\n",
       "    }\n",
       "</style>\n",
       "<table border=\"1\" class=\"dataframe\">\n",
       "  <thead>\n",
       "    <tr style=\"text-align: right;\">\n",
       "      <th></th>\n",
       "      <th>mean</th>\n",
       "      <th>median</th>\n",
       "    </tr>\n",
       "    <tr>\n",
       "      <th>Pclass</th>\n",
       "      <th></th>\n",
       "      <th></th>\n",
       "    </tr>\n",
       "  </thead>\n",
       "  <tbody>\n",
       "    <tr>\n",
       "      <th>1</th>\n",
       "      <td>38.233441</td>\n",
       "      <td>37.0</td>\n",
       "    </tr>\n",
       "    <tr>\n",
       "      <th>2</th>\n",
       "      <td>29.877630</td>\n",
       "      <td>29.0</td>\n",
       "    </tr>\n",
       "    <tr>\n",
       "      <th>3</th>\n",
       "      <td>25.140620</td>\n",
       "      <td>24.0</td>\n",
       "    </tr>\n",
       "  </tbody>\n",
       "</table>\n",
       "</div>"
      ],
      "text/plain": [
       "             mean  median\n",
       "Pclass                   \n",
       "1       38.233441    37.0\n",
       "2       29.877630    29.0\n",
       "3       25.140620    24.0"
      ]
     },
     "execution_count": 73,
     "metadata": {},
     "output_type": "execute_result"
    }
   ],
   "source": [
    "df.groupby('Pclass')['Age'].agg(['mean','median'])"
   ]
  },
  {
   "attachments": {},
   "cell_type": "markdown",
   "metadata": {},
   "source": [
    "*Example: Applying multiple functions to **multiple** columns*\n",
    "\n",
    "-   Compute the following by class in a single call to `agg()`:\n",
    "    1.  Mean age\n",
    "    2.  Maximum fare (column `Fare`)"
   ]
  },
  {
   "cell_type": "code",
   "execution_count": 75,
   "metadata": {},
   "outputs": [
    {
     "data": {
      "text/html": [
       "<div>\n",
       "<style scoped>\n",
       "    .dataframe tbody tr th:only-of-type {\n",
       "        vertical-align: middle;\n",
       "    }\n",
       "\n",
       "    .dataframe tbody tr th {\n",
       "        vertical-align: top;\n",
       "    }\n",
       "\n",
       "    .dataframe thead th {\n",
       "        text-align: right;\n",
       "    }\n",
       "</style>\n",
       "<table border=\"1\" class=\"dataframe\">\n",
       "  <thead>\n",
       "    <tr style=\"text-align: right;\">\n",
       "      <th></th>\n",
       "      <th>avg_age</th>\n",
       "      <th>max_fare</th>\n",
       "    </tr>\n",
       "    <tr>\n",
       "      <th>Pclass</th>\n",
       "      <th></th>\n",
       "      <th></th>\n",
       "    </tr>\n",
       "  </thead>\n",
       "  <tbody>\n",
       "    <tr>\n",
       "      <th>1</th>\n",
       "      <td>38.233441</td>\n",
       "      <td>512.3292</td>\n",
       "    </tr>\n",
       "    <tr>\n",
       "      <th>2</th>\n",
       "      <td>29.877630</td>\n",
       "      <td>73.5000</td>\n",
       "    </tr>\n",
       "    <tr>\n",
       "      <th>3</th>\n",
       "      <td>25.140620</td>\n",
       "      <td>69.5500</td>\n",
       "    </tr>\n",
       "  </tbody>\n",
       "</table>\n",
       "</div>"
      ],
      "text/plain": [
       "          avg_age  max_fare\n",
       "Pclass                     \n",
       "1       38.233441  512.3292\n",
       "2       29.877630   73.5000\n",
       "3       25.140620   69.5500"
      ]
     },
     "execution_count": 75,
     "metadata": {},
     "output_type": "execute_result"
    }
   ],
   "source": [
    "df.groupby('Pclass').agg(\n",
    "    avg_age=('Age','mean'),\n",
    "    max_fare=('Fare','max')\n",
    ")"
   ]
  },
  {
   "cell_type": "markdown",
   "metadata": {},
   "source": [
    "<div class=\"alert alert-info\">\n",
    "<h3> Your turn</h3>\n",
    "Use the Titanic data set to perform the following aggregations:\n",
    "<ol>\n",
    "    <li>Compute the minimum, maximum and average age by embarkation port (stored in the column <TT>Embarked</TT>) in a single <TT>agg()</TT> operation.\n",
    "    There are several ways to solve this problem.</li>\n",
    "    <li>Compute the number of passengers, the average age and the fraction of women by embarkation port in a single <TT>agg()</TT> operation. \n",
    "    <br/>\n",
    "    <i>Hint:</i>To compute the fraction of women, you can either use a <TT>lambda</TT> expressions, or you first create a numerical indicator variable for females\n",
    "    (as we did in the workshop).\n",
    "    </li>\n",
    "</ol>\n",
    "</div>"
   ]
  },
  {
   "cell_type": "code",
   "execution_count": 76,
   "metadata": {},
   "outputs": [
    {
     "data": {
      "text/html": [
       "<div>\n",
       "<style scoped>\n",
       "    .dataframe tbody tr th:only-of-type {\n",
       "        vertical-align: middle;\n",
       "    }\n",
       "\n",
       "    .dataframe tbody tr th {\n",
       "        vertical-align: top;\n",
       "    }\n",
       "\n",
       "    .dataframe thead th {\n",
       "        text-align: right;\n",
       "    }\n",
       "</style>\n",
       "<table border=\"1\" class=\"dataframe\">\n",
       "  <thead>\n",
       "    <tr style=\"text-align: right;\">\n",
       "      <th></th>\n",
       "      <th>min</th>\n",
       "      <th>max</th>\n",
       "      <th>mean</th>\n",
       "    </tr>\n",
       "    <tr>\n",
       "      <th>Embarked</th>\n",
       "      <th></th>\n",
       "      <th></th>\n",
       "      <th></th>\n",
       "    </tr>\n",
       "  </thead>\n",
       "  <tbody>\n",
       "    <tr>\n",
       "      <th>C</th>\n",
       "      <td>0.42</td>\n",
       "      <td>71.0</td>\n",
       "      <td>30.814769</td>\n",
       "    </tr>\n",
       "    <tr>\n",
       "      <th>Q</th>\n",
       "      <td>2.00</td>\n",
       "      <td>70.5</td>\n",
       "      <td>28.089286</td>\n",
       "    </tr>\n",
       "    <tr>\n",
       "      <th>S</th>\n",
       "      <td>0.67</td>\n",
       "      <td>80.0</td>\n",
       "      <td>29.445397</td>\n",
       "    </tr>\n",
       "  </tbody>\n",
       "</table>\n",
       "</div>"
      ],
      "text/plain": [
       "           min   max       mean\n",
       "Embarked                       \n",
       "C         0.42  71.0  30.814769\n",
       "Q         2.00  70.5  28.089286\n",
       "S         0.67  80.0  29.445397"
      ]
     },
     "execution_count": 76,
     "metadata": {},
     "output_type": "execute_result"
    }
   ],
   "source": [
    "df.groupby('Embarked')['Age'].agg(['min','max','mean'])"
   ]
  },
  {
   "cell_type": "code",
   "execution_count": 78,
   "metadata": {},
   "outputs": [
    {
     "data": {
      "text/html": [
       "<div>\n",
       "<style scoped>\n",
       "    .dataframe tbody tr th:only-of-type {\n",
       "        vertical-align: middle;\n",
       "    }\n",
       "\n",
       "    .dataframe tbody tr th {\n",
       "        vertical-align: top;\n",
       "    }\n",
       "\n",
       "    .dataframe thead th {\n",
       "        text-align: right;\n",
       "    }\n",
       "</style>\n",
       "<table border=\"1\" class=\"dataframe\">\n",
       "  <thead>\n",
       "    <tr style=\"text-align: right;\">\n",
       "      <th></th>\n",
       "      <th>nr</th>\n",
       "      <th>avg_age</th>\n",
       "      <th>fraction_female</th>\n",
       "    </tr>\n",
       "    <tr>\n",
       "      <th>Embarked</th>\n",
       "      <th></th>\n",
       "      <th></th>\n",
       "      <th></th>\n",
       "    </tr>\n",
       "  </thead>\n",
       "  <tbody>\n",
       "    <tr>\n",
       "      <th>C</th>\n",
       "      <td>168</td>\n",
       "      <td>30.814769</td>\n",
       "      <td>0.434524</td>\n",
       "    </tr>\n",
       "    <tr>\n",
       "      <th>Q</th>\n",
       "      <td>77</td>\n",
       "      <td>28.089286</td>\n",
       "      <td>0.467532</td>\n",
       "    </tr>\n",
       "    <tr>\n",
       "      <th>S</th>\n",
       "      <td>644</td>\n",
       "      <td>29.445397</td>\n",
       "      <td>0.315217</td>\n",
       "    </tr>\n",
       "  </tbody>\n",
       "</table>\n",
       "</div>"
      ],
      "text/plain": [
       "           nr    avg_age  fraction_female\n",
       "Embarked                                 \n",
       "C         168  30.814769         0.434524\n",
       "Q          77  28.089286         0.467532\n",
       "S         644  29.445397         0.315217"
      ]
     },
     "execution_count": 78,
     "metadata": {},
     "output_type": "execute_result"
    }
   ],
   "source": [
    "df.groupby('Embarked').agg(\n",
    "    nr=('Embarked','count'),\n",
    "    avg_age=('Age','mean'),\n",
    "    fraction_female=('Sex',lambda x: np.mean(x=='female'))\n",
    ")"
   ]
  },
  {
   "attachments": {},
   "cell_type": "markdown",
   "metadata": {},
   "source": [
    "***\n",
    "## Transformations\n",
    "\n",
    "-   Same principle as aggregations, but number of observations remains unchanged\n",
    "-   Useful for computations that involve individual and aggregate data\n",
    "-   Performed with [`transform()`](https://pandas.pydata.org/docs/reference/api/pandas.core.groupby.DataFrameGroupBy.transform.html)"
   ]
  },
  {
   "cell_type": "markdown",
   "metadata": {},
   "source": [
    "*Example: assign group-specific mean*\n",
    "\n",
    "- Compute average fare by class, assign result to each observation"
   ]
  },
  {
   "cell_type": "code",
   "execution_count": 80,
   "metadata": {},
   "outputs": [],
   "source": [
    "df['Avg_Fare']=df.groupby('Pclass')['Fare'].transform('mean')"
   ]
  },
  {
   "attachments": {},
   "cell_type": "markdown",
   "metadata": {},
   "source": [
    "*Example: Deviation from average fare*\n",
    "\n",
    "-   For each passenger, compute difference between passenger's fare and average fare in their class"
   ]
  },
  {
   "cell_type": "code",
   "execution_count": 81,
   "metadata": {},
   "outputs": [],
   "source": [
    "df['Excess']=df['Fare']-df['Avg_Fare']"
   ]
  },
  {
   "cell_type": "markdown",
   "metadata": {},
   "source": [
    "<div class=\"alert alert-info\">\n",
    "<h3> Your turn</h3>\n",
    "Use the Titanic data set to perform the following aggregations:\n",
    "<ol>\n",
    "    <li>Compute the <i>excess</i> fare paid by each passenger relative to the minimum fare by embarkation port and class, i.e., compute <i>Fare - min(Fare)</i>\n",
    "        by port and class.</li>\n",
    "</ol>\n",
    "</div>"
   ]
  },
  {
   "attachments": {},
   "cell_type": "markdown",
   "metadata": {},
   "source": [
    "***\n",
    "## Resampling and aggregation"
   ]
  },
  {
   "cell_type": "markdown",
   "metadata": {},
   "source": [
    "### Digression: Working with time series data (see lecture 2)\n",
    "\n",
    "-   Pandas indices can be date or datetime data types\n",
    "-   Use [`date_range()`](https://pandas.pydata.org/docs/reference/api/pandas.date_range.html) to create a range of dates\n",
    "-   Use [`to_datetime()`](https://pandas.pydata.org/docs/reference/api/pandas.to_datetime.html) to convert existing data to datetime format"
   ]
  },
  {
   "cell_type": "markdown",
   "metadata": {},
   "source": [
    "*Example: Creating a date index*\n",
    "\n",
    "-   Create a demo data set of daily observations for the first 3 months of 2024"
   ]
  },
  {
   "cell_type": "code",
   "execution_count": 89,
   "metadata": {},
   "outputs": [],
   "source": [
    "# Start and end dates used for demo data set\n",
    "start = '2024-01-01'\n",
    "end = '2024-03-31'\n",
    "#Create a time series index\n",
    "index=pd.date_range(start=start,end=end,freq='D')\n",
    "data=pd.Series(np.arange(len(index)),index=index)"
   ]
  },
  {
   "cell_type": "markdown",
   "metadata": {},
   "source": [
    "*Example: Select particular date*\n",
    "\n",
    "-   Select observation from January 1, 2024"
   ]
  },
  {
   "cell_type": "code",
   "execution_count": 90,
   "metadata": {},
   "outputs": [
    {
     "data": {
      "text/plain": [
       "np.int64(0)"
      ]
     },
     "execution_count": 90,
     "metadata": {},
     "output_type": "execute_result"
    }
   ],
   "source": [
    "data.loc['2024-01-01']"
   ]
  },
  {
   "cell_type": "markdown",
   "metadata": {},
   "source": [
    "*Example: Select date range*\n",
    "\n",
    "- Select first 5 days in January 2024"
   ]
  },
  {
   "cell_type": "code",
   "execution_count": 92,
   "metadata": {},
   "outputs": [
    {
     "data": {
      "text/plain": [
       "2024-01-01    0\n",
       "2024-01-02    1\n",
       "2024-01-03    2\n",
       "2024-01-04    3\n",
       "2024-01-05    4\n",
       "Freq: D, dtype: int64"
      ]
     },
     "execution_count": 92,
     "metadata": {},
     "output_type": "execute_result"
    }
   ],
   "source": [
    "data.loc['2024-01-01':'2024-01-05']"
   ]
  },
  {
   "cell_type": "markdown",
   "metadata": {},
   "source": [
    "*Example: Use a partial index*\n",
    "\n",
    "- Select all of January 2024"
   ]
  },
  {
   "cell_type": "code",
   "execution_count": 91,
   "metadata": {},
   "outputs": [
    {
     "data": {
      "text/plain": [
       "2024-01-01     0\n",
       "2024-01-02     1\n",
       "2024-01-03     2\n",
       "2024-01-04     3\n",
       "2024-01-05     4\n",
       "2024-01-06     5\n",
       "2024-01-07     6\n",
       "2024-01-08     7\n",
       "2024-01-09     8\n",
       "2024-01-10     9\n",
       "2024-01-11    10\n",
       "2024-01-12    11\n",
       "2024-01-13    12\n",
       "2024-01-14    13\n",
       "2024-01-15    14\n",
       "2024-01-16    15\n",
       "2024-01-17    16\n",
       "2024-01-18    17\n",
       "2024-01-19    18\n",
       "2024-01-20    19\n",
       "2024-01-21    20\n",
       "2024-01-22    21\n",
       "2024-01-23    22\n",
       "2024-01-24    23\n",
       "2024-01-25    24\n",
       "2024-01-26    25\n",
       "2024-01-27    26\n",
       "2024-01-28    27\n",
       "2024-01-29    28\n",
       "2024-01-30    29\n",
       "2024-01-31    30\n",
       "Freq: D, dtype: int64"
      ]
     },
     "execution_count": 91,
     "metadata": {},
     "output_type": "execute_result"
    }
   ],
   "source": [
    "data.loc['2024-01']"
   ]
  },
  {
   "cell_type": "markdown",
   "metadata": {},
   "source": [
    "***\n",
    "### Resampling time series data\n",
    "\n",
    "-   Use [`resample()`](https://pandas.pydata.org/pandas-docs/stable/reference/api/pandas.DataFrame.resample.html) to aggregate time series data to lower frequency\n",
    "-   Argument to `resample()` determines frequency and index of resulting data, e.g.:\n",
    "\n",
    "    -   `'YE'` aggregation to years, index is end of year\n",
    "    -   `'QE'` aggregation to quarters, index is end of quarter\n",
    "    -   `'ME'` aggregation to months, index is end of month\n",
    "    -   `'W'` aggregations to weeks"
   ]
  },
  {
   "cell_type": "markdown",
   "metadata": {},
   "source": [
    "*Example: Resampling the NASDAQ index*"
   ]
  },
  {
   "cell_type": "code",
   "execution_count": null,
   "metadata": {},
   "outputs": [],
   "source": [
    "# Path to NASDAQ data file\n",
    "file = f'{DATA_PATH}/stockmarket/NASDAQ.csv'\n",
    "\n",
    "# Read in NASDAQ data, set Date column as index\n",
    "df = pd.read_csv(file, index_col='Date', parse_dates=True)\n",
    "\n",
    "# Keep observations for 2024\n",
    "df = df.loc['2024']"
   ]
  },
  {
   "cell_type": "code",
   "execution_count": 102,
   "metadata": {},
   "outputs": [
    {
     "data": {
      "text/html": [
       "<div>\n",
       "<style scoped>\n",
       "    .dataframe tbody tr th:only-of-type {\n",
       "        vertical-align: middle;\n",
       "    }\n",
       "\n",
       "    .dataframe tbody tr th {\n",
       "        vertical-align: top;\n",
       "    }\n",
       "\n",
       "    .dataframe thead th {\n",
       "        text-align: right;\n",
       "    }\n",
       "</style>\n",
       "<table border=\"1\" class=\"dataframe\">\n",
       "  <thead>\n",
       "    <tr style=\"text-align: right;\">\n",
       "      <th></th>\n",
       "      <th>NASDAQ</th>\n",
       "    </tr>\n",
       "    <tr>\n",
       "      <th>Date</th>\n",
       "      <th></th>\n",
       "    </tr>\n",
       "  </thead>\n",
       "  <tbody>\n",
       "    <tr>\n",
       "      <th>2024-01-07</th>\n",
       "      <td>14598.125</td>\n",
       "    </tr>\n",
       "    <tr>\n",
       "      <th>2024-01-14</th>\n",
       "      <td>14922.840</td>\n",
       "    </tr>\n",
       "    <tr>\n",
       "      <th>2024-01-21</th>\n",
       "      <td>15041.650</td>\n",
       "    </tr>\n",
       "    <tr>\n",
       "      <th>2024-01-28</th>\n",
       "      <td>15446.800</td>\n",
       "    </tr>\n",
       "    <tr>\n",
       "      <th>2024-02-04</th>\n",
       "      <td>15458.500</td>\n",
       "    </tr>\n",
       "    <tr>\n",
       "      <th>2024-02-11</th>\n",
       "      <td>15749.540</td>\n",
       "    </tr>\n",
       "    <tr>\n",
       "      <th>2024-02-18</th>\n",
       "      <td>15827.840</td>\n",
       "    </tr>\n",
       "    <tr>\n",
       "      <th>2024-02-25</th>\n",
       "      <td>15812.525</td>\n",
       "    </tr>\n",
       "    <tr>\n",
       "      <th>2024-03-03</th>\n",
       "      <td>16065.200</td>\n",
       "    </tr>\n",
       "    <tr>\n",
       "      <th>2024-03-10</th>\n",
       "      <td>16107.420</td>\n",
       "    </tr>\n",
       "    <tr>\n",
       "      <th>2024-03-17</th>\n",
       "      <td>16112.880</td>\n",
       "    </tr>\n",
       "    <tr>\n",
       "      <th>2024-03-24</th>\n",
       "      <td>16294.060</td>\n",
       "    </tr>\n",
       "    <tr>\n",
       "      <th>2024-03-31</th>\n",
       "      <td>16369.800</td>\n",
       "    </tr>\n",
       "    <tr>\n",
       "      <th>2024-04-07</th>\n",
       "      <td>16242.480</td>\n",
       "    </tr>\n",
       "    <tr>\n",
       "      <th>2024-04-14</th>\n",
       "      <td>16269.660</td>\n",
       "    </tr>\n",
       "    <tr>\n",
       "      <th>2024-04-21</th>\n",
       "      <td>15663.420</td>\n",
       "    </tr>\n",
       "    <tr>\n",
       "      <th>2024-04-28</th>\n",
       "      <td>15680.080</td>\n",
       "    </tr>\n",
       "    <tr>\n",
       "      <th>2024-05-05</th>\n",
       "      <td>15848.740</td>\n",
       "    </tr>\n",
       "    <tr>\n",
       "      <th>2024-05-12</th>\n",
       "      <td>16334.360</td>\n",
       "    </tr>\n",
       "    <tr>\n",
       "      <th>2024-05-19</th>\n",
       "      <td>16605.220</td>\n",
       "    </tr>\n",
       "    <tr>\n",
       "      <th>2024-05-26</th>\n",
       "      <td>16817.160</td>\n",
       "    </tr>\n",
       "    <tr>\n",
       "      <th>2024-06-02</th>\n",
       "      <td>16853.150</td>\n",
       "    </tr>\n",
       "    <tr>\n",
       "      <th>2024-06-09</th>\n",
       "      <td>17035.980</td>\n",
       "    </tr>\n",
       "    <tr>\n",
       "      <th>2024-06-16</th>\n",
       "      <td>17500.200</td>\n",
       "    </tr>\n",
       "    <tr>\n",
       "      <th>2024-06-23</th>\n",
       "      <td>17782.550</td>\n",
       "    </tr>\n",
       "    <tr>\n",
       "      <th>2024-06-30</th>\n",
       "      <td>17722.200</td>\n",
       "    </tr>\n",
       "    <tr>\n",
       "      <th>2024-07-07</th>\n",
       "      <td>18112.300</td>\n",
       "    </tr>\n",
       "    <tr>\n",
       "      <th>2024-07-14</th>\n",
       "      <td>18432.440</td>\n",
       "    </tr>\n",
       "    <tr>\n",
       "      <th>2024-07-21</th>\n",
       "      <td>18115.380</td>\n",
       "    </tr>\n",
       "    <tr>\n",
       "      <th>2024-07-28</th>\n",
       "      <td>17577.380</td>\n",
       "    </tr>\n",
       "    <tr>\n",
       "      <th>2024-08-04</th>\n",
       "      <td>17217.480</td>\n",
       "    </tr>\n",
       "    <tr>\n",
       "      <th>2024-08-11</th>\n",
       "      <td>16433.600</td>\n",
       "    </tr>\n",
       "    <tr>\n",
       "      <th>2024-08-18</th>\n",
       "      <td>17277.400</td>\n",
       "    </tr>\n",
       "    <tr>\n",
       "      <th>2024-08-25</th>\n",
       "      <td>17821.960</td>\n",
       "    </tr>\n",
       "    <tr>\n",
       "      <th>2024-09-01</th>\n",
       "      <td>17653.320</td>\n",
       "    </tr>\n",
       "    <tr>\n",
       "      <th>2024-09-08</th>\n",
       "      <td>17009.775</td>\n",
       "    </tr>\n",
       "    <tr>\n",
       "      <th>2024-09-15</th>\n",
       "      <td>17311.940</td>\n",
       "    </tr>\n",
       "    <tr>\n",
       "      <th>2024-09-22</th>\n",
       "      <td>17751.160</td>\n",
       "    </tr>\n",
       "    <tr>\n",
       "      <th>2024-09-29</th>\n",
       "      <td>18088.180</td>\n",
       "    </tr>\n",
       "    <tr>\n",
       "      <th>2024-10-06</th>\n",
       "      <td>18016.200</td>\n",
       "    </tr>\n",
       "    <tr>\n",
       "      <th>2024-10-13</th>\n",
       "      <td>18204.680</td>\n",
       "    </tr>\n",
       "    <tr>\n",
       "      <th>2024-10-20</th>\n",
       "      <td>18409.720</td>\n",
       "    </tr>\n",
       "    <tr>\n",
       "      <th>2024-10-27</th>\n",
       "      <td>18466.120</td>\n",
       "    </tr>\n",
       "    <tr>\n",
       "      <th>2024-11-03</th>\n",
       "      <td>18444.600</td>\n",
       "    </tr>\n",
       "    <tr>\n",
       "      <th>2024-11-10</th>\n",
       "      <td>18831.800</td>\n",
       "    </tr>\n",
       "    <tr>\n",
       "      <th>2024-11-17</th>\n",
       "      <td>19119.740</td>\n",
       "    </tr>\n",
       "    <tr>\n",
       "      <th>2024-11-24</th>\n",
       "      <td>18944.300</td>\n",
       "    </tr>\n",
       "    <tr>\n",
       "      <th>2024-12-01</th>\n",
       "      <td>19126.950</td>\n",
       "    </tr>\n",
       "    <tr>\n",
       "      <th>2024-12-08</th>\n",
       "      <td>19636.000</td>\n",
       "    </tr>\n",
       "    <tr>\n",
       "      <th>2024-12-15</th>\n",
       "      <td>19857.660</td>\n",
       "    </tr>\n",
       "    <tr>\n",
       "      <th>2024-12-22</th>\n",
       "      <td>19724.220</td>\n",
       "    </tr>\n",
       "    <tr>\n",
       "      <th>2024-12-29</th>\n",
       "      <td>19884.600</td>\n",
       "    </tr>\n",
       "    <tr>\n",
       "      <th>2025-01-05</th>\n",
       "      <td>19486.800</td>\n",
       "    </tr>\n",
       "  </tbody>\n",
       "</table>\n",
       "</div>"
      ],
      "text/plain": [
       "               NASDAQ\n",
       "Date                 \n",
       "2024-01-07  14598.125\n",
       "2024-01-14  14922.840\n",
       "2024-01-21  15041.650\n",
       "2024-01-28  15446.800\n",
       "2024-02-04  15458.500\n",
       "2024-02-11  15749.540\n",
       "2024-02-18  15827.840\n",
       "2024-02-25  15812.525\n",
       "2024-03-03  16065.200\n",
       "2024-03-10  16107.420\n",
       "2024-03-17  16112.880\n",
       "2024-03-24  16294.060\n",
       "2024-03-31  16369.800\n",
       "2024-04-07  16242.480\n",
       "2024-04-14  16269.660\n",
       "2024-04-21  15663.420\n",
       "2024-04-28  15680.080\n",
       "2024-05-05  15848.740\n",
       "2024-05-12  16334.360\n",
       "2024-05-19  16605.220\n",
       "2024-05-26  16817.160\n",
       "2024-06-02  16853.150\n",
       "2024-06-09  17035.980\n",
       "2024-06-16  17500.200\n",
       "2024-06-23  17782.550\n",
       "2024-06-30  17722.200\n",
       "2024-07-07  18112.300\n",
       "2024-07-14  18432.440\n",
       "2024-07-21  18115.380\n",
       "2024-07-28  17577.380\n",
       "2024-08-04  17217.480\n",
       "2024-08-11  16433.600\n",
       "2024-08-18  17277.400\n",
       "2024-08-25  17821.960\n",
       "2024-09-01  17653.320\n",
       "2024-09-08  17009.775\n",
       "2024-09-15  17311.940\n",
       "2024-09-22  17751.160\n",
       "2024-09-29  18088.180\n",
       "2024-10-06  18016.200\n",
       "2024-10-13  18204.680\n",
       "2024-10-20  18409.720\n",
       "2024-10-27  18466.120\n",
       "2024-11-03  18444.600\n",
       "2024-11-10  18831.800\n",
       "2024-11-17  19119.740\n",
       "2024-11-24  18944.300\n",
       "2024-12-01  19126.950\n",
       "2024-12-08  19636.000\n",
       "2024-12-15  19857.660\n",
       "2024-12-22  19724.220\n",
       "2024-12-29  19884.600\n",
       "2025-01-05  19486.800"
      ]
     },
     "execution_count": 102,
     "metadata": {},
     "output_type": "execute_result"
    }
   ],
   "source": [
    "df.resample('W').mean()"
   ]
  },
  {
   "cell_type": "markdown",
   "metadata": {},
   "source": [
    "<div class=\"alert alert-info\">\n",
    "<h3> Your turn</h3>\n",
    "<p>\n",
    "Use the daily NASDAQ data for 2024 and compute the percentage change from the first to the last trading day within each month.\n",
    "</p>\n",
    "</div>"
   ]
  },
  {
   "cell_type": "code",
   "execution_count": null,
   "metadata": {},
   "outputs": [],
   "source": []
  }
 ],
 "metadata": {
  "kernelspec": {
   "display_name": "TECH2",
   "language": "python",
   "name": "python3"
  },
  "language_info": {
   "codemirror_mode": {
    "name": "ipython",
    "version": 3
   },
   "file_extension": ".py",
   "mimetype": "text/x-python",
   "name": "python",
   "nbconvert_exporter": "python",
   "pygments_lexer": "ipython3",
   "version": "3.13.5"
  }
 },
 "nbformat": 4,
 "nbformat_minor": 0
}
